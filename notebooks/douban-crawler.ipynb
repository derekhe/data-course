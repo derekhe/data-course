{
 "cells": [
  {
   "cell_type": "markdown",
   "metadata": {},
   "source": [
    "# 豆瓣爬虫分步骤演示"
   ]
  },
  {
   "cell_type": "markdown",
   "metadata": {
    "pycharm": {
     "name": "#%% md\n"
    }
   },
   "source": [
    "## 使用Python的requests库读取网页并提取返回的数据\n",
    "\n",
    "下面演示如何获取到https://movie.douban.com/subject/11026735/ 的HTML代码"
   ]
  },
  {
   "cell_type": "markdown",
   "metadata": {
    "pycharm": {
     "name": "#%% md\n"
    }
   },
   "source": [
    "Tips：如何快速获取到对于的python代码？\n",
    "\n",
    "![拷贝浏览器请求](resources/douban-1.png)\n",
    "![转换成代码](resources/douban-2.png)"
   ]
  },
  {
   "cell_type": "code",
   "execution_count": 2,
   "metadata": {
    "collapsed": false,
    "jupyter": {
     "outputs_hidden": false
    },
    "pycharm": {
     "name": "#%%\n"
    }
   },
   "outputs": [],
   "source": [
    "import requests\n",
    "\n",
    "headers = {\n",
    "    'Connection': 'keep-alive',\n",
    "    'Cache-Control': 'max-age=0',\n",
    "    'sec-ch-ua': '\"Google Chrome\";v=\"89\", \"Chromium\";v=\"89\", \";Not A Brand\";v=\"99\"',\n",
    "    'sec-ch-ua-mobile': '?0',\n",
    "    'Upgrade-Insecure-Requests': '1',\n",
    "    'User-Agent': 'Mozilla/5.0 (Macintosh; Intel Mac OS X 10_15_7) AppleWebKit/537.36 (KHTML, like Gecko) Chrome/89.0.4389.114 Safari/537.36',\n",
    "    'Accept': 'text/html,application/xhtml+xml,application/xml;q=0.9,image/avif,image/webp,image/apng,*/*;q=0.8,application/signed-exchange;v=b3;q=0.9',\n",
    "    'Sec-Fetch-Site': 'same-origin',\n",
    "    'Sec-Fetch-Mode': 'navigate',\n",
    "    'Sec-Fetch-User': '?1',\n",
    "    'Sec-Fetch-Dest': 'document',\n",
    "    'Referer': 'https://movie.douban.com/subject/11026735/comments?start=200&limit=20&status=P&sort=new_score',\n",
    "    'Accept-Language': 'zh-CN,zh;q=0.9,en-US;q=0.8,en;q=0.7',\n",
    "}\n",
    "\n",
    "response = requests.get('https://movie.douban.com/subject/11026735/', headers=headers)"
   ]
  },
  {
   "cell_type": "markdown",
   "metadata": {
    "tags": []
   },
   "source": [
    "显示前几百个字符"
   ]
  },
  {
   "cell_type": "code",
   "execution_count": 3,
   "metadata": {},
   "outputs": [
    {
     "data": {
      "text/plain": [
       "'<!DOCTYPE html>\\n<html lang=\"zh-CN\" class=\"ua-mac ua-webkit\">\\n<head>\\n    <meta http-equiv=\"Content-Type\" content=\"text/html; charset=utf-8\">\\n    <meta name=\"renderer\" content=\"webkit\">\\n    <meta name=\"referrer\" content=\"always\">\\n    <meta name=\"google-site-verification\" content=\"ok0wCgT20tBBgo9_zat2iAcimtN4Ftf5ccsh092Xeyw\" />\\n    <title>\\n        超能陆战队 (豆瓣)\\n</title>\\n    \\n    <meta name=\"baidu-site-verification\" content=\"cZdR4xxR7RxmM4zE\" />\\n    <meta http-equiv=\"Pragma\" content=\"no-cache\">\\n    <me'"
      ]
     },
     "execution_count": 3,
     "metadata": {},
     "output_type": "execute_result"
    }
   ],
   "source": [
    "response.text[0:500]"
   ]
  },
  {
   "cell_type": "markdown",
   "metadata": {},
   "source": [
    "## 通过正则表达式获取电影标题名称\n",
    "\n",
    "正则表达式测试:https://regex101.com/r/AFRdGf/2"
   ]
  },
  {
   "cell_type": "code",
   "execution_count": 4,
   "metadata": {},
   "outputs": [
    {
     "data": {
      "text/plain": [
       "[('超能陆战队 Big Hero 6',\n",
       "  '/subject/11026735/',\n",
       "  'https://img2.doubanio.com/view/photo/s_ratio_poster/public/p2614500883.webp')]"
      ]
     },
     "execution_count": 4,
     "metadata": {},
     "output_type": "execute_result"
    }
   ],
   "source": [
    "import re\n",
    "\n",
    "regex = r\"\\\"name\\\":\\s\\\"(?P<name>.*?)\\\",\\s*\\\"url\\\":\\s\\\"(?P<url>.*?)\\\",\\s*\\\"image\\\":\\s\\\"(?P<image>.*?)\\\"\"\n",
    "re.findall(regex,response.text)"
   ]
  },
  {
   "cell_type": "markdown",
   "metadata": {},
   "source": [
    "## 对于豆瓣，可以提取json+ld来获取相关信息\n",
    "\n",
    "相关正则表达式：https://regex101.com/r/Ac3L5n/1"
   ]
  },
  {
   "cell_type": "code",
   "execution_count": 12,
   "metadata": {},
   "outputs": [
    {
     "data": {
      "text/plain": [
       "'超能陆战队 Big Hero 6'"
      ]
     },
     "execution_count": 12,
     "metadata": {},
     "output_type": "execute_result"
    }
   ],
   "source": [
    "import json\n",
    "\n",
    "regex = r\"ld\\+json\\\">(.*?)</script>\"\n",
    "jsonld = re.findall(regex,response.text, re.MULTILINE | re.DOTALL)[0]\n",
    "\n",
    "movie = json.loads(jsonld)\n",
    "movie['name']"
   ]
  },
  {
   "cell_type": "code",
   "execution_count": 16,
   "metadata": {},
   "outputs": [
    {
     "data": {
      "text/plain": [
       "['乔丹·罗伯茨 Jordan Roberts',\n",
       " '丹尼尔·吉尔森 Daniel Gerson',\n",
       " '罗伯特·L·贝尔德 Robert L. Baird',\n",
       " '唐·霍尔 Don Hall',\n",
       " '邓肯·鲁洛 Duncan Rouleau',\n",
       " '史提芬·T·西格尔 Steven T. Seagle',\n",
       " '乔·凯西 Joe Casey',\n",
       " '乔·凯利 Joe Kelly']"
      ]
     },
     "execution_count": 16,
     "metadata": {},
     "output_type": "execute_result"
    }
   ],
   "source": [
    "# 导演\n",
    "[x['name'] for x in movie['author']]"
   ]
  },
  {
   "cell_type": "code",
   "execution_count": 18,
   "metadata": {},
   "outputs": [
    {
     "data": {
      "text/plain": [
       "['斯科特·安第斯 Scott Adsit',\n",
       " '瑞恩·波特 Ryan Potter',\n",
       " '丹尼尔·海尼 Daniel Henney',\n",
       " 'T·J·米勒 T.J. Miller',\n",
       " '杰米·钟 Jamie Chung',\n",
       " '小达蒙·韦恩斯 Damon Wayans Jr.',\n",
       " '珍尼希斯·罗德里格兹 Genesis Rodriguez',\n",
       " '詹姆斯·克伦威尔 James Cromwell',\n",
       " '艾伦·图代克 Alan Tudyk',\n",
       " '玛娅·鲁道夫 Maya Rudolph',\n",
       " '亚布拉哈姆·本鲁比 Abraham Benrubi',\n",
       " '凯蒂·洛斯 Katie Lowes',\n",
       " '比利·布什 Billy Bush',\n",
       " '丹尼尔·吉尔森 Daniel Gerson',\n",
       " '保罗·布里格斯 Paul Briggs',\n",
       " '夏洛特·古列齐 Charlotte Gulezian',\n",
       " 'Dan Howell',\n",
       " '乔西·特立尼达 Josie Trinidad',\n",
       " '菅野美穗 Miho Kanno',\n",
       " '斯坦·李 Stan Lee',\n",
       " '大卫·肖内西 David Shaughnessy',\n",
       " '查尔斯·阿德勒 Charles Adler',\n",
       " '郝祥海 Xianghai Hao']"
      ]
     },
     "execution_count": 18,
     "metadata": {},
     "output_type": "execute_result"
    }
   ],
   "source": [
    "# 演员\n",
    "[x['name'] for x in movie['actor']]"
   ]
  },
  {
   "cell_type": "code",
   "execution_count": 21,
   "metadata": {},
   "outputs": [
    {
     "data": {
      "text/plain": [
       "8.7"
      ]
     },
     "execution_count": 21,
     "metadata": {},
     "output_type": "execute_result"
    }
   ],
   "source": [
    "# 评分\n",
    "float(movie['aggregateRating']['ratingValue'])"
   ]
  }
 ],
 "metadata": {
  "kernelspec": {
   "display_name": "Python 3",
   "language": "python",
   "name": "python3"
  },
  "language_info": {
   "codemirror_mode": {
    "name": "ipython",
    "version": 3
   },
   "file_extension": ".py",
   "mimetype": "text/x-python",
   "name": "python",
   "nbconvert_exporter": "python",
   "pygments_lexer": "ipython3",
   "version": "3.9.4"
  }
 },
 "nbformat": 4,
 "nbformat_minor": 4
}
