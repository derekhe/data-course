{
 "cells": [
  {
   "cell_type": "markdown",
   "metadata": {},
   "source": [
    "# 豆瓣爬虫分步骤演示"
   ]
  },
  {
   "cell_type": "markdown",
   "metadata": {
    "pycharm": {
     "name": "#%% md\n"
    }
   },
   "source": [
    "## 使用Python的requests库读取网页并提取返回的数据\n",
    "\n",
    "下面演示如何获取到https://movie.douban.com/subject/11026735/ 的HTML代码"
   ]
  },
  {
   "cell_type": "markdown",
   "metadata": {
    "pycharm": {
     "name": "#%% md\n"
    }
   },
   "source": [
    "Tips：如何快速获取到对于的python代码？\n",
    "\n",
    "![拷贝浏览器请求](resources/douban-1.png)\n",
    "![转换成代码](resources/douban-2.png)"
   ]
  },
  {
   "cell_type": "code",
   "execution_count": null,
   "metadata": {
    "collapsed": false,
    "jupyter": {
     "outputs_hidden": false
    },
    "pycharm": {
     "name": "#%%\n"
    }
   },
   "outputs": [],
   "source": [
    "import requests\n",
    "\n",
    "headers = {\n",
    "    'Connection': 'keep-alive',\n",
    "    'Cache-Control': 'max-age=0',\n",
    "    'sec-ch-ua': '\"Google Chrome\";v=\"89\", \"Chromium\";v=\"89\", \";Not A Brand\";v=\"99\"',\n",
    "    'sec-ch-ua-mobile': '?0',\n",
    "    'Upgrade-Insecure-Requests': '1',\n",
    "    'User-Agent': 'Mozilla/5.0 (Macintosh; Intel Mac OS X 10_15_7) AppleWebKit/537.36 (KHTML, like Gecko) Chrome/89.0.4389.114 Safari/537.36',\n",
    "    'Accept': 'text/html,application/xhtml+xml,application/xml;q=0.9,image/avif,image/webp,image/apng,*/*;q=0.8,application/signed-exchange;v=b3;q=0.9',\n",
    "    'Sec-Fetch-Site': 'same-origin',\n",
    "    'Sec-Fetch-Mode': 'navigate',\n",
    "    'Sec-Fetch-User': '?1',\n",
    "    'Sec-Fetch-Dest': 'document',\n",
    "    'Referer': 'https://movie.douban.com/subject/11026735/comments?start=200&limit=20&status=P&sort=new_score',\n",
    "    'Accept-Language': 'zh-CN,zh;q=0.9,en-US;q=0.8,en;q=0.7',\n",
    "}\n",
    "\n",
    "response = requests.get('https://movie.douban.com/subject/11026735/', headers=headers)"
   ]
  },
  {
   "cell_type": "markdown",
   "metadata": {
    "tags": []
   },
   "source": [
    "显示前几百个字符"
   ]
  },
  {
   "cell_type": "code",
   "execution_count": null,
   "metadata": {},
   "outputs": [],
   "source": [
    "response.text[0:500]"
   ]
  },
  {
   "cell_type": "markdown",
   "metadata": {},
   "source": [
    "## 通过正则表达式获取电影标题名称\n",
    "\n",
    "正则表达式测试:https://regex101.com/r/AFRdGf/2"
   ]
  },
  {
   "cell_type": "code",
   "execution_count": null,
   "metadata": {},
   "outputs": [],
   "source": [
    "import re\n",
    "\n",
    "regex = r\"\\\"name\\\":\\s\\\"(?P<name>.*?)\\\",\\s*\\\"url\\\":\\s\\\"(?P<url>.*?)\\\",\\s*\\\"image\\\":\\s\\\"(?P<image>.*?)\\\"\"\n",
    "re.findall(regex,response.text)"
   ]
  },
  {
   "cell_type": "markdown",
   "metadata": {},
   "source": [
    "## 对于豆瓣，可以提取json+ld来获取相关信息\n",
    "\n",
    "相关正则表达式：https://regex101.com/r/Ac3L5n/1"
   ]
  },
  {
   "cell_type": "code",
   "execution_count": null,
   "metadata": {},
   "outputs": [],
   "source": [
    "import json\n",
    "\n",
    "regex = r\"ld\\+json\\\">(.*?)</script>\"\n",
    "jsonld = re.findall(regex,response.text, re.MULTILINE | re.DOTALL)[0]\n",
    "\n",
    "movie = json.loads(jsonld)\n",
    "movie['name']"
   ]
  },
  {
   "cell_type": "code",
   "execution_count": null,
   "metadata": {},
   "outputs": [],
   "source": [
    "# 编剧\n",
    "[x['name'] for x in movie['author']]"
   ]
  },
  {
   "cell_type": "code",
   "execution_count": null,
   "metadata": {},
   "outputs": [],
   "source": [
    "# 演员\n",
    "[x['name'] for x in movie['actor']]"
   ]
  },
  {
   "cell_type": "code",
   "execution_count": null,
   "metadata": {},
   "outputs": [],
   "source": [
    "# 评分\n",
    "float(movie['aggregateRating']['ratingValue'])"
   ]
  },
  {
   "cell_type": "markdown",
   "metadata": {},
   "source": [
    "## 通过BeautifulSoup提取"
   ]
  },
  {
   "cell_type": "markdown",
   "metadata": {},
   "source": [
    "BeautifulSoup提供了解析XML、HTML的各种方法，并且提供了选择器可以更快的定位到需要的元素。\n",
    "CSS selector可以通过浏览器直接得到"
   ]
  },
  {
   "cell_type": "code",
   "execution_count": null,
   "metadata": {},
   "outputs": [],
   "source": [
    "from bs4 import BeautifulSoup\n",
    "soup = BeautifulSoup(response.content, 'html.parser')\n",
    "[x.text for x in soup.select(\"#info > span.actor > span.attrs > a\")]"
   ]
  },
  {
   "cell_type": "markdown",
   "metadata": {},
   "source": [
    "# 小练习\n",
    "修改下面的代码，使之能够读取到该电影的影评信息：https://movie.douban.com/subject/11026735/comments"
   ]
  },
  {
   "cell_type": "code",
   "execution_count": null,
   "metadata": {
    "tags": []
   },
   "outputs": [],
   "source": [
    "url = \"填入正确的url\"\n",
    "response = requests.get(url, headers=headers)\n",
    "response.content[0:500]"
   ]
  },
  {
   "cell_type": "markdown",
   "metadata": {},
   "source": [
    "Tips: 获取评论 Copy selector得到CSS表达式\n",
    "`#comments > div:nth-child(1) > div.comment > p > span`\n",
    "注意这里有一个`div:nth-child(1)`，指的是第一个div元素，如果要遍历所有的，需要删除`:nth-child(1)`\n",
    "\n",
    "![](./resources/douban-practice-tip-1.png)\n"
   ]
  },
  {
   "cell_type": "code",
   "execution_count": null,
   "metadata": {},
   "outputs": [],
   "source": [
    "soup = BeautifulSoup(response.content, 'html.parser')\n",
    "[x.text for x in soup.select(\"填入正确的css selector\")]"
   ]
  },
  {
   "cell_type": "code",
   "execution_count": null,
   "metadata": {},
   "outputs": [],
   "source": [
    "[x.text for x in soup.select(\"#comments > div > div.comment > h3 > span.comment-info > a\")]"
   ]
  },
  {
   "cell_type": "markdown",
   "metadata": {},
   "source": [
    "找到下一页的链接并进行遍历"
   ]
  },
  {
   "cell_type": "code",
   "execution_count": null,
   "metadata": {},
   "outputs": [],
   "source": [
    "baseurl = \"https://movie.douban.com/subject/11026735/comments\"\n",
    "nextpage_url = \"\"\n",
    "while True:\n",
    "    response = requests.get(baseurl + nextpage_url, headers=headers)\n",
    "    soup = BeautifulSoup(response.content, 'html.parser')\n",
    "    nextpage = soup.select(\"#paginator > a.next\")\n",
    "    content = [x.text for x in soup.select(\"#comments > div > div.comment > p > span\")]\n",
    "    print(\"这一页所有的评论\", content)\n",
    "    \n",
    "    if len(nextpage) == 0:\n",
    "        break\n",
    "        \n",
    "    nextpage_url = nextpage[0]['href']\n",
    "    print(\"正在获取\", nextpage_url)\n",
    "    if nextpage_url is None:\n",
    "        break"
   ]
  }
 ],
 "metadata": {
  "kernelspec": {
   "display_name": "Python 3",
   "language": "python",
   "name": "python3"
  },
  "language_info": {
   "codemirror_mode": {
    "name": "ipython",
    "version": 3
   },
   "file_extension": ".py",
   "mimetype": "text/x-python",
   "name": "python",
   "nbconvert_exporter": "python",
   "pygments_lexer": "ipython3",
   "version": "3.9.4"
  }
 },
 "nbformat": 4,
 "nbformat_minor": 4
}
